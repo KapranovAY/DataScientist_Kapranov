{
 "cells": [
  {
   "cell_type": "code",
   "execution_count": 5,
   "metadata": {},
   "outputs": [],
   "source": [
    "import numpy as np\n",
    "import pandas as pd\n",
    "import seaborn as sns\n",
    "import matplotlib.pyplot as plt"
   ]
  },
  {
   "cell_type": "code",
   "execution_count": 6,
   "metadata": {},
   "outputs": [],
   "source": [
    "from sklearn.linear_model import LogisticRegression"
   ]
  },
  {
   "cell_type": "code",
   "execution_count": 54,
   "metadata": {},
   "outputs": [],
   "source": [
    "f = lambda x: x**3-2*x**2+2\n",
    "x = np.linspace(-1,2.5,1000)"
   ]
  },
  {
   "cell_type": "code",
   "execution_count": 55,
   "metadata": {},
   "outputs": [],
   "source": [
    "f_prime = lambda x: 3*x**2-4*x\n",
    "x = np.linspace(-1,2.5,1000)"
   ]
  },
  {
   "cell_type": "code",
   "execution_count": 187,
   "metadata": {},
   "outputs": [],
   "source": [
    "lr = 0.2\n",
    "points = [2]\n",
    "n_epochs = 10\n",
    "for _ in range(n_epochs):\n",
    "    cur_point = points[-1]\n",
    "    grad = f_prime(cur_point)\n",
    "    new_point = cur_point - lr * grad\n",
    "    points.append(new_point)"
   ]
  },
  {
   "cell_type": "code",
   "execution_count": 188,
   "metadata": {},
   "outputs": [],
   "source": [
    "y_points = [f(p) for p in points]"
   ]
  },
  {
   "cell_type": "code",
   "execution_count": 203,
   "metadata": {},
   "outputs": [],
   "source": [
    "##nesterov momentum\n",
    "lr = 0.2\n",
    "points = [2]\n",
    "n_epochs = 10\n",
    "momentum = 0.99\n",
    "new_solution = []\n",
    "for _ in range(n_epochs):\n",
    "    cur_point = points[-1]\n",
    "    grad = f_prime(cur_point)\n",
    "    new_point = (momentum) - lr * grad\n",
    "    points.append(new_point)\n",
    "    "
   ]
  },
  {
   "cell_type": "code",
   "execution_count": 204,
   "metadata": {},
   "outputs": [
    {
     "data": {
      "text/plain": [
       "[2,\n",
       " 0.18999999999999995,\n",
       " 1.12034,\n",
       " 1.13317497064,\n",
       " 1.1260886680610211,\n",
       " 1.13002552144755,\n",
       " 1.1278458096843555,\n",
       " 1.1290549454939487,\n",
       " 1.128384914428553,\n",
       " 1.1287564224768827,\n",
       " 1.1285505012118195]"
      ]
     },
     "execution_count": 204,
     "metadata": {},
     "output_type": "execute_result"
    }
   ],
   "source": [
    "points"
   ]
  },
  {
   "cell_type": "code",
   "execution_count": 212,
   "metadata": {},
   "outputs": [],
   "source": [
    "## Методом rmsprop\n",
    "lr = 0.1\n",
    "points = [2]\n",
    "n_epochs = 10\n",
    "B = 0.9\n",
    "grad2 = [0]\n",
    "g = 0\n",
    "\n",
    "for _ in range(n_epochs):\n",
    "    cur_point = points[-1]\n",
    "    grad = f_prime(cur_point)\n",
    "    Eg2 = B * grad2[-1] + (1 - B) * grad**2\n",
    "    grad2.append(Eg2)\n",
    "    new_point = cur_point - lr / grad2[-1]  * grad\n",
    "    points.append(new_point)\n",
    "    "
   ]
  },
  {
   "cell_type": "code",
   "execution_count": 213,
   "metadata": {},
   "outputs": [
    {
     "data": {
      "text/plain": [
       "[2,\n",
       " 1.75,\n",
       " 1.6359795577635705,\n",
       " 1.559701017908269,\n",
       " 1.502900160090615,\n",
       " 1.458879176314047,\n",
       " 1.424391879615494,\n",
       " 1.3975394508422634,\n",
       " 1.3770124776335269,\n",
       " 1.3617664210703087,\n",
       " 1.350875116862428]"
      ]
     },
     "execution_count": 213,
     "metadata": {},
     "output_type": "execute_result"
    }
   ],
   "source": [
    "points"
   ]
  }
 ],
 "metadata": {
  "kernelspec": {
   "display_name": "Python 3",
   "language": "python",
   "name": "python3"
  },
  "language_info": {
   "codemirror_mode": {
    "name": "ipython",
    "version": 3
   },
   "file_extension": ".py",
   "mimetype": "text/x-python",
   "name": "python",
   "nbconvert_exporter": "python",
   "pygments_lexer": "ipython3",
   "version": "3.8.5"
  }
 },
 "nbformat": 4,
 "nbformat_minor": 4
}
