{
 "cells": [
  {
   "cell_type": "code",
   "execution_count": 5,
   "metadata": {},
   "outputs": [],
   "source": [
    "import matplotlib.pyplot as plt\n",
    "import numpy as np\n",
    "import scipy\n",
    "from sklearn.model_selection import train_test_split\n",
    "from sympy import *\n",
    "import math\n",
    "from scipy.misc import derivative\n",
    "from numpy import linalg as LA\n",
    "\n",
    "from scipy.optimize import minimize\n",
    "%matplotlib inline"
   ]
  },
  {
   "cell_type": "markdown",
   "metadata": {},
   "source": [
    "## Задание 1"
   ]
  },
  {
   "cell_type": "code",
   "execution_count": 3,
   "metadata": {},
   "outputs": [],
   "source": [
    "raitings = np.array([[ 4,  4,  9,  4,  1,  6, 10,  7,  9,  6,  9,  2,  8,  6,  6],\n",
    "                     [ 9,  2,  5, 10,  7,  8, 10,  5,  6,  2,  1,  6,  8,  9,  7],\n",
    "                     [ 1,  6,  8,  8,  4,  9,  3,  8, 10,  5,  2,  6,  8,  1,  6],\n",
    "                     [ 6,  1,  9,  7,  7,  9,  2,  3,  5,  1,  6,  6,  3,  2,  7],\n",
    "                     [ 3,  7,  3,  5,  7,  9,  9,  6,  2,  9,  1,  2,  8, 10,  6],\n",
    "                     [ 8,  3,  7,  3,  8,  6,  1,  8,  8,  6,  1,  9,  4, 10,  1],\n",
    "                     [ 9,  8,  4,  8,  8, 10,  6,  1,  1,  2,  9,  5,  2,  7,  2],\n",
    "                     [ 4,  1,  6,  4,  3, 10,  4,  4,  2,  8,  7,  9,  3,  8,  3],\n",
    "                     [ 2,  7,  7,  6, 10,  6,  8,  9,  8,  6, 10,  1,  7, 10,  4],\n",
    "                     [ 5, 10,  8,  8,  9,  7,  2,  9,  9, 10,  8,  8,  8,  6, 10]])"
   ]
  },
  {
   "cell_type": "code",
   "execution_count": 59,
   "metadata": {},
   "outputs": [
    {
     "name": "stdout",
     "output_type": "stream",
     "text": [
      "Наиболее похожие пользователи 1 9 cos 0.8904246658040822\n",
      "Наиболее похожие пользователи 2 7 cos 0.9226356281699976\n",
      "Наиболее похожие пользователи 3 10 cos 0.8942346243792992\n",
      "Наиболее похожие пользователи 4 1 cos 0.7863774049888025\n",
      "Наиболее похожие пользователи 5 10 cos 0.9224685144144227\n",
      "Наиболее похожие пользователи 6 10 cos 0.8926287529660395\n",
      "Наиболее похожие пользователи 7 2 cos 0.9226356281699976\n",
      "Наиболее похожие пользователи 8 10 cos 0.9219535419423169\n",
      "Наиболее похожие пользователи 9 10 cos 0.9562047775774617\n",
      "Наиболее похожие пользователи 10 9 cos 0.9562047775774617\n"
     ]
    }
   ],
   "source": [
    "a = -1\n",
    "for id_1 in enumerate(raitings):\n",
    "    a += 1\n",
    "    b = -1\n",
    "    c = 0\n",
    "    for id_2 in enumerate(raitings):\n",
    "        b += 1\n",
    "        aLength = np.linalg.norm( raitings[id_1] )\n",
    "        bLength = np.linalg.norm( raitings[id_2] )\n",
    "        cos = np.dot( raitings[id_1], raitings[id_2] ) / ( aLength * bLength )\n",
    "        if c < cos and cos < 0.999:\n",
    "            c = cos\n",
    "            di = b\n",
    "    print('Наиболее похожие пользователи', a+1, di+1, \"cos\",c)"
   ]
  },
  {
   "cell_type": "code",
   "execution_count": 76,
   "metadata": {},
   "outputs": [],
   "source": [
    "from sklearn.decomposition import PCA"
   ]
  },
  {
   "cell_type": "code",
   "execution_count": 81,
   "metadata": {},
   "outputs": [
    {
     "data": {
      "text/plain": [
       "array([[-5.30986101,  1.92919845, -4.93300027,  2.70188013],\n",
       "       [ 2.87763403,  2.71659559,  1.40592782,  7.26325751],\n",
       "       [-4.94010408, -6.68861167, -0.94550184,  3.61556661],\n",
       "       [ 5.14939908, -6.28027284, -4.65978558,  1.09024004],\n",
       "       [-1.37488691,  7.54357985,  4.00834369,  2.1284001 ],\n",
       "       [ 2.65341956, -3.77075601,  8.58430748, -1.46628319],\n",
       "       [ 8.61573944,  3.78603335, -4.02721027, -4.37582577],\n",
       "       [ 5.39658258, -1.0170466 ,  1.01456742, -1.89512837],\n",
       "       [-5.7843488 ,  5.29857107, -1.48083611, -3.71295542],\n",
       "       [-7.2835739 , -3.51729118,  1.03318766, -5.34915166]])"
      ]
     },
     "execution_count": 81,
     "metadata": {},
     "output_type": "execute_result"
    }
   ],
   "source": [
    "# PCA позволяет уменьшить размерность данных, потеряв наименьшее количество информации.\n",
    "pca = PCA(n_components=4)\n",
    "principalComponents = pca.fit_transform(raitings)\n",
    "principalComponents"
   ]
  },
  {
   "cell_type": "markdown",
   "metadata": {},
   "source": [
    "## Задание 2"
   ]
  },
  {
   "cell_type": "code",
   "execution_count": 21,
   "metadata": {},
   "outputs": [],
   "source": [
    "def f(x):\n",
    "    return tan(sin(x) + cos(2*x+3))**2"
   ]
  },
  {
   "cell_type": "code",
   "execution_count": 22,
   "metadata": {},
   "outputs": [
    {
     "data": {
      "text/latex": [
       "$\\displaystyle 55.3859176433136$"
      ],
      "text/plain": [
       "55.3859176433136"
      ]
     },
     "execution_count": 22,
     "metadata": {},
     "output_type": "execute_result"
    }
   ],
   "source": [
    "derivative(f, 1, dx = 1e-6)"
   ]
  },
  {
   "cell_type": "markdown",
   "metadata": {},
   "source": [
    "## Задание 3"
   ]
  },
  {
   "cell_type": "code",
   "execution_count": 2,
   "metadata": {},
   "outputs": [],
   "source": [
    "def f(x, a, b):\n",
    "    return np.e**a * np.sin(b*x) + x"
   ]
  },
  {
   "cell_type": "code",
   "execution_count": 3,
   "metadata": {},
   "outputs": [
    {
     "data": {
      "image/png": "[encoded data removed]",
      "text/plain": [
       "<Figure size 432x288 with 1 Axes>"
      ]
     },
     "metadata": {
      "needs_background": "light"
     },
     "output_type": "display_data"
    }
   ],
   "source": [
    "x = np.array([0.        , 0.26315789, 0.52631579, 0.78947368, 1.05263158,\n",
    "              1.31578947, 1.57894737, 1.84210526, 2.10526316, 2.36842105,\n",
    "              2.63157895, 2.89473684, 3.15789474, 3.42105263, 3.68421053,\n",
    "              3.94736842, 4.21052632, 4.47368421, 4.73684211, 5.        ])\n",
    "\n",
    "fx = np.array([  0.        , -12.01819092, -18.90968634, -17.68786571,\n",
    "                -8.7529108 ,   4.27524517,  16.06801336,  21.81250213,\n",
    "                19.22059845,   9.48411207,  -3.22273056, -13.48576488,\n",
    "               -16.91096359, -11.95866834,  -0.58630088,  12.56873816,\n",
    "                22.12489421,  24.20292139,  18.04522521,   6.33211092])\n",
    "\n",
    "plt.plot(x, fx)\n",
    "plt.show()"
   ]
  },
  {
   "cell_type": "code",
   "execution_count": 5,
   "metadata": {},
   "outputs": [],
   "source": [
    "def error(params):\n",
    "    return np.sum(np.abs(fx - f(x, params[0], params[1])))"
   ]
  },
  {
   "cell_type": "code",
   "execution_count": 9,
   "metadata": {},
   "outputs": [
    {
     "data": {
      "text/plain": [
       "     fun: 0.07674566113889902\n",
       "   maxcv: 0.0\n",
       " message: 'Optimization terminated successfully.'\n",
       "    nfev: 135\n",
       "  status: 1\n",
       " success: True\n",
       "       x: array([ 3.00018796, -2.50008926])"
      ]
     },
     "execution_count": 9,
     "metadata": {},
     "output_type": "execute_result"
    }
   ],
   "source": [
    "res = minimize(error, [0,0], method='COBYLA') \n",
    "res"
   ]
  },
  {
   "cell_type": "code",
   "execution_count": null,
   "metadata": {},
   "outputs": [],
   "source": [
    "# [ 3.00018796, -2.50008926] параметры a, b"
   ]
  },
  {
   "cell_type": "markdown",
   "metadata": {},
   "source": [
    "## Задание 4"
   ]
  },
  {
   "cell_type": "code",
   "execution_count": 44,
   "metadata": {},
   "outputs": [],
   "source": [
    "x = np.random.randint(1, 1000, size = 20)"
   ]
  },
  {
   "cell_type": "code",
   "execution_count": 54,
   "metadata": {},
   "outputs": [],
   "source": [
    "a = np.array([])\n",
    "i = 0\n",
    "while (i < 1000):\n",
    "    i += 1\n",
    "    x = np.random.randint(1, 100, size = 50)\n",
    "    a = np.append(a, np.mean(x))"
   ]
  },
  {
   "cell_type": "code",
   "execution_count": 60,
   "metadata": {
    "scrolled": false
   },
   "outputs": [
    {
     "data": {
      "text/plain": [
       "(array([ 1.,  0.,  0.,  1.,  1.,  3.,  3.,  2.,  3.,  8.,  9., 13., 16.,\n",
       "        17., 22., 20., 34., 20., 38., 42., 55., 39., 46., 41., 44., 44.,\n",
       "        54., 48., 50., 48., 38., 26., 27., 36., 28., 21., 20., 19., 12.,\n",
       "        11., 15.,  7.,  6.,  3.,  4.,  1.,  2.,  1.,  0.,  1.]),\n",
       " array([37.14  , 37.6436, 38.1472, 38.6508, 39.1544, 39.658 , 40.1616,\n",
       "        40.6652, 41.1688, 41.6724, 42.176 , 42.6796, 43.1832, 43.6868,\n",
       "        44.1904, 44.694 , 45.1976, 45.7012, 46.2048, 46.7084, 47.212 ,\n",
       "        47.7156, 48.2192, 48.7228, 49.2264, 49.73  , 50.2336, 50.7372,\n",
       "        51.2408, 51.7444, 52.248 , 52.7516, 53.2552, 53.7588, 54.2624,\n",
       "        54.766 , 55.2696, 55.7732, 56.2768, 56.7804, 57.284 , 57.7876,\n",
       "        58.2912, 58.7948, 59.2984, 59.802 , 60.3056, 60.8092, 61.3128,\n",
       "        61.8164, 62.32  ]),\n",
       " <BarContainer object of 50 artists>)"
      ]
     },
     "execution_count": 60,
     "metadata": {},
     "output_type": "execute_result"
    },
    {
     "data": {
      "image/png": "[encoded data removed]",
      "text/plain": [
       "<Figure size 432x288 with 1 Axes>"
      ]
     },
     "metadata": {
      "needs_background": "light"
     },
     "output_type": "display_data"
    }
   ],
   "source": [
    "plt.hist(a,50)"
   ]
  },
  {
   "cell_type": "markdown",
   "metadata": {},
   "source": [
    "### Задание 5"
   ]
  },
  {
   "cell_type": "code",
   "execution_count": 4,
   "metadata": {},
   "outputs": [
    {
     "name": "stdout",
     "output_type": "stream",
     "text": [
      "[[1 4]\n",
      " [1 1]]\n"
     ]
    }
   ],
   "source": [
    "m = np.array([[1, 4],\n",
    "              [1, 1]])\n",
    "print(m)"
   ]
  },
  {
   "cell_type": "code",
   "execution_count": 6,
   "metadata": {},
   "outputs": [],
   "source": [
    "w,v = LA.eig(m)"
   ]
  },
  {
   "cell_type": "code",
   "execution_count": 7,
   "metadata": {},
   "outputs": [
    {
     "name": "stdout",
     "output_type": "stream",
     "text": [
      "[ 3. -1.]\n"
     ]
    }
   ],
   "source": [
    "print(w)1-λ"
   ]
  },
  {
   "cell_type": "code",
   "execution_count": 8,
   "metadata": {},
   "outputs": [
    {
     "name": "stdout",
     "output_type": "stream",
     "text": [
      "[[ 0.89442719 -0.89442719]\n",
      " [ 0.4472136   0.4472136 ]]\n"
     ]
    }
   ],
   "source": [
    "print(v)"
   ]
  },
  {
   "cell_type": "code",
   "execution_count": null,
   "metadata": {},
   "outputs": [],
   "source": [
    "# Решение на бумаге\n",
    "[1, 4] = [1-λ , 4] = (1-λ)(1-λ) - 4 = 1 - 2λ + λ**2 - 4 = λ**2 - 2λ - 3\n",
    "[1, 1]   [1, 1-λ ]\n",
    "\n",
    "λ1 = 3\n",
    "λ2 = -1\n"
   ]
  },
  {
   "cell_type": "code",
   "execution_count": null,
   "metadata": {},
   "outputs": [],
   "source": [
    "#Собственные векторы\n",
    "[x1, 4x2 = 3x1 \n",
    "[x1, x2  = 3x2\n",
    " \n",
    "[x1, 4x2 = -x1 \n",
    "[x1, x2  = -x2\n",
    " \n",
    " "
   ]
  }
 ],
 "metadata": {
  "kernelspec": {
   "display_name": "Python 3",
   "language": "python",
   "name": "python3"
  },
  "language_info": {
   "codemirror_mode": {
    "name": "ipython",
    "version": 3
   },
   "file_extension": ".py",
   "mimetype": "text/x-python",
   "name": "python",
   "nbconvert_exporter": "python",
   "pygments_lexer": "ipython3",
   "version": "3.8.5"
  }
 },
 "nbformat": 4,
 "nbformat_minor": 4
}
