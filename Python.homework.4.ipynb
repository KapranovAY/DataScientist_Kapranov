{
 "cells": [
  {
   "cell_type": "markdown",
   "metadata": {},
   "source": [
    "Задание 1"
   ]
  },
  {
   "cell_type": "code",
   "execution_count": 2,
   "metadata": {},
   "outputs": [],
   "source": [
    "documents = [\n",
    "{'type': 'passport', 'number': '2207 876234', 'name': 'Василий Гупкин'},\n",
    "{'type': 'invoice', 'number': '11-2', 'name': 'Геннадий Покемонов'},\n",
    "{'type': 'insurance', 'number': '10006', 'name': 'Аристарх Павлов'}\n",
    "]\n",
    "directories = {\n",
    "'1': ['2207 876234', '11-2'],\n",
    "'2': ['10006'],\n",
    "'3': []\n",
    "}"
   ]
  },
  {
   "cell_type": "code",
   "execution_count": 27,
   "metadata": {},
   "outputs": [
    {
     "name": "stdout",
     "output_type": "stream",
     "text": [
      "Введите команду: ds\n",
      "Введите номер полки:7\n",
      "Полка удалена. Текущий перечень полок: 1,2,3.\n"
     ]
    }
   ],
   "source": [
    "# Полный код \n",
    "command = input ('Введите команду: ')\n",
    "if command == 'p':\n",
    "    c = 0\n",
    "    t = None\n",
    "    documents_list = []\n",
    "    doc_number = input('Введите номер документа:')\n",
    "    for b in documents:\n",
    "        documents_list = dict(documents[c])\n",
    "        c += 1\n",
    "        if documents_list['number'] == doc_number:\n",
    "            t = doc_number\n",
    "            break\n",
    "    if t != None:\n",
    "        print (documents_list['name'])\n",
    "    else:\n",
    "        print ('Документ не найден в базе')\n",
    "if command == 's':\n",
    "    doc_number = input('Введите номер документа:')\n",
    "    dir_id = None\n",
    "    for k, v in directories.items():\n",
    "        if doc_number in v:\n",
    "            dir_id = k\n",
    "    if dir_id != None:\n",
    "        print ('Документ хранится на полке:', dir_id)\n",
    "    else:\n",
    "        print ('Документ не найден в базе')\n",
    "if command == 'l':\n",
    "    c = 0\n",
    "    dir_id = None\n",
    "    documents_list = []\n",
    "    for b in documents:\n",
    "        documents_list = dict(documents[c])\n",
    "        c +=1\n",
    "        for k, v in directories.items():\n",
    "            if documents_list['number'] in v:\n",
    "                dir_id = k\n",
    "        print('№:', documents_list['number']+',', 'тип:', documents_list['type']+',', 'владелец:', documents_list['name']+',', 'полка хранения:', dir_id)\n",
    "if command == 'ads':\n",
    "    num_shelf = input('Введите номер полки:')\n",
    "    if num_shelf in directories:\n",
    "        print ('Такая полка уже существует. Текущий перечень полок:', ','.join(list(directories))+\".\")\n",
    "    else:\n",
    "        directories[num_shelf] = []\n",
    "        print('Полка добавлена. Текущий перечень полок:', ','.join(list(directories))+\".\")         \n",
    "if command == 'ds':\n",
    "    num_shelf = input('Введите номер полки:')\n",
    "    if num_shelf in directories:\n",
    "        if directories[num_shelf] == []:\n",
    "            del(directories[num_shelf])\n",
    "            print('Полка удалена. Текущий перечень полок:', ','.join(list(directories))+\".\")\n",
    "        else:\n",
    "            print ('На полке есть документа, удалите их перед удалением полки. Текущий перечень полок:',','.join(list(directories))+\".\")\n",
    "    else:\n",
    "        print (\"Такой полки не существует. Текущий перечень полок:\",','.join(list(directories))+\".\")"
   ]
  },
  {
   "cell_type": "code",
   "execution_count": 3,
   "metadata": {},
   "outputs": [
    {
     "name": "stdout",
     "output_type": "stream",
     "text": [
      "Введите команду: p\n",
      "Введите номер документа:11-2\n",
      "Геннадий Покемонов\n"
     ]
    }
   ],
   "source": [
    "#решение 1 задачи, \n",
    "command = input ('Введите команду: ')\n",
    "def command_p(command):\n",
    "    t = None  \n",
    "    if command == 'p':\n",
    "        c = 0\n",
    "        documents_list = []\n",
    "        doc_number = input('Введите номер документа:')\n",
    "        for b in documents:\n",
    "            documents_list = dict(documents[c])\n",
    "            c += 1\n",
    "            if documents_list['number'] == doc_number:\n",
    "                t = doc_number\n",
    "                break\n",
    "        if t != None:\n",
    "            print (documents_list['name'])\n",
    "        else:\n",
    "            print ('Документ не найден в базе')\n",
    "command_p(command)"
   ]
  },
  {
   "cell_type": "code",
   "execution_count": 8,
   "metadata": {},
   "outputs": [
    {
     "name": "stdout",
     "output_type": "stream",
     "text": [
      "Введите команду: s\n",
      "Введите номер документа:10006\n",
      "Документ хранится на полке: 2\n"
     ]
    }
   ],
   "source": [
    "#решение 2 задачи,\n",
    "command = input ('Введите команду: ')\n",
    "def command_s(command):\n",
    "    dir_id = None\n",
    "    if command == 's':\n",
    "        doc_number = input('Введите номер документа:')\n",
    "        for k, v in directories.items():\n",
    "            if doc_number in v:\n",
    "                dir_id = k\n",
    "        if dir_id != None:\n",
    "            print ('Документ хранится на полке:', dir_id)\n",
    "        else:\n",
    "            print ('Документ не найден в базе')\n",
    "command_s(command)      "
   ]
  },
  {
   "cell_type": "code",
   "execution_count": 9,
   "metadata": {},
   "outputs": [],
   "source": [
    "#решение 3 задачи, \n",
    "def command_l(command):\n",
    "    if command == 'l':\n",
    "        c = 0\n",
    "        dir_id = None\n",
    "        documents_list = []\n",
    "        for b in documents:\n",
    "            documents_list = dict(documents[c])\n",
    "            c +=1\n",
    "            for k, v in directories.items():\n",
    "                if documents_list['number'] in v:\n",
    "                    dir_id = k\n",
    "            print('№:', documents_list['number']+',', 'тип:', documents_list['type']+',', 'владелец:', documents_list['name']+',', 'полка хранения:', dir_id)\n",
    "command_l(command)"
   ]
  },
  {
   "cell_type": "code",
   "execution_count": 16,
   "metadata": {},
   "outputs": [],
   "source": [
    "#решение 4 задачи, \n",
    "def command_ads(command):\n",
    "    if command == 'ads':\n",
    "        num_shelf = input('Введите номер полки:')\n",
    "        if num_shelf in directories:\n",
    "            print ('Такая полка уже существует. Текущий перечень полок:', ','.join(list(directories))+\".\")\n",
    "        else:\n",
    "            directories[num_shelf] = []\n",
    "            print('Полка добавлена. Текущий перечень полок:', ','.join(list(directories))+\".\")    \n",
    "command_ads(command)"
   ]
  },
  {
   "cell_type": "code",
   "execution_count": 19,
   "metadata": {},
   "outputs": [
    {
     "name": "stdout",
     "output_type": "stream",
     "text": [
      "Введите номер полки:1\n",
      "На полке есть документа, удалите их перед удалением полки. Текущий перечень полок: 1,2,3.\n"
     ]
    }
   ],
   "source": [
    "#решение 5 задачи, \n",
    "def command_ds(command):\n",
    "    if command == 'ds':\n",
    "        num_shelf = input('Введите номер полки:')\n",
    "        if num_shelf in directories:\n",
    "            if directories[num_shelf] == []:\n",
    "                del(directories[num_shelf])\n",
    "                print('Полка удалена. Текущий перечень полок:', ','.join(list(directories))+\".\")\n",
    "            else:\n",
    "                print ('На полке есть документа, удалите их перед удалением полки. Текущий перечень полок:',','.join(list(directories))+\".\")\n",
    "        else:\n",
    "            print (\"Такой полки не существует. Текущий перечень полок:\",','.join(list(directories))+\".\")\n",
    "command_ds(command)   "
   ]
  },
  {
   "cell_type": "code",
   "execution_count": 23,
   "metadata": {},
   "outputs": [
    {
     "name": "stdout",
     "output_type": "stream",
     "text": [
      "Введите команду: ds\n",
      "Введите номер полки:7\n",
      "Полка удалена. Текущий перечень полок: 1,2,3.\n"
     ]
    }
   ],
   "source": [
    "command = input ('Введите команду: ')\n",
    "command_p(command)\n",
    "command_s(command)\n",
    "command_l(command)\n",
    "command_ds(command)\n",
    "command_ads(command)"
   ]
  }
 ],
 "metadata": {
  "kernelspec": {
   "display_name": "Python 3",
   "language": "python",
   "name": "python3"
  },
  "language_info": {
   "codemirror_mode": {
    "name": "ipython",
    "version": 3
   },
   "file_extension": ".py",
   "mimetype": "text/x-python",
   "name": "python",
   "nbconvert_exporter": "python",
   "pygments_lexer": "ipython3",
   "version": "3.8.5"
  }
 },
 "nbformat": 4,
 "nbformat_minor": 4
}
