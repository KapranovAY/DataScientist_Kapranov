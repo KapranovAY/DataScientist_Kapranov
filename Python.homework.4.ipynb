{
 "cells": [
  {
   "cell_type": "markdown",
   "metadata": {},
   "source": [
    "Задание 1"
   ]
  },
  {
   "cell_type": "code",
   "execution_count": 42,
   "metadata": {},
   "outputs": [],
   "source": [
    "documents = [\n",
    "{'type': 'passport', 'number': '2207 876234', 'name': 'Василий Гупкин'},\n",
    "{'type': 'invoice', 'number': '11-2', 'name': 'Геннадий Покемонов'},\n",
    "{'type': 'insurance', 'number': '10006', 'name': 'Аристарх Павлов'}\n",
    "]\n",
    "directories = {\n",
    "'1': ['2207 876234', '11-2'],\n",
    "'2': ['10006'],\n",
    "'3': []\n",
    "}"
   ]
  },
  {
   "cell_type": "code",
   "execution_count": 54,
   "metadata": {},
   "outputs": [],
   "source": [
    "#решение 1 задачи, \n",
    "def command_p():\n",
    "    t = None  \n",
    "    c = 0\n",
    "    documents_list = []\n",
    "    doc_number = input('Введите номер документа:')\n",
    "    for b in documents:\n",
    "        documents_list = dict(documents[c])\n",
    "        c += 1\n",
    "        if documents_list['number'] == doc_number:\n",
    "            t = doc_number\n",
    "            break\n",
    "    if t != None:\n",
    "        print (documents_list['name'])\n",
    "    else:\n",
    "        print ('Документ не найден в базе')"
   ]
  },
  {
   "cell_type": "code",
   "execution_count": 55,
   "metadata": {},
   "outputs": [],
   "source": [
    "#решение 2 задачи,\n",
    "def command_s():\n",
    "    dir_id = None\n",
    "    doc_number = input('Введите номер документа:')\n",
    "    for k, v in directories.items():\n",
    "        if doc_number in v:\n",
    "            dir_id = k\n",
    "    if dir_id != None:\n",
    "        print ('Документ хранится на полке:', dir_id)\n",
    "    else:\n",
    "        print ('Документ не найден в базе')     "
   ]
  },
  {
   "cell_type": "code",
   "execution_count": 56,
   "metadata": {},
   "outputs": [],
   "source": [
    "#решение 3 задачи, \n",
    "def command_l():\n",
    "    c = 0\n",
    "    dir_id = None\n",
    "    documents_list = []\n",
    "    for b in documents:\n",
    "        documents_list = dict(documents[c])\n",
    "        c +=1\n",
    "        for k, v in directories.items():\n",
    "            if documents_list['number'] in v:\n",
    "                dir_id = k\n",
    "        print('№:', documents_list['number']+',', 'тип:', documents_list['type']+',', 'владелец:', documents_list['name']+',', 'полка хранения:', dir_id)"
   ]
  },
  {
   "cell_type": "code",
   "execution_count": 57,
   "metadata": {},
   "outputs": [],
   "source": [
    "#решение 4 задачи, \n",
    "def command_ads():\n",
    "    num_shelf = input('Введите номер полки:')\n",
    "    if num_shelf in directories:\n",
    "        print ('Такая полка уже существует. Текущий перечень полок:', ','.join(list(directories))+\".\")\n",
    "    else:\n",
    "        directories[num_shelf] = []\n",
    "        print('Полка добавлена. Текущий перечень полок:', ','.join(list(directories))+\".\")    "
   ]
  },
  {
   "cell_type": "code",
   "execution_count": 63,
   "metadata": {},
   "outputs": [],
   "source": [
    "#решение 5 задачи, \n",
    "def command_ds():\n",
    "    num_shelf = input('Введите номер полки:')\n",
    "    if num_shelf in directories:\n",
    "        if directories[num_shelf] == []:\n",
    "            del(directories[num_shelf])\n",
    "            print('Полка удалена. Текущий перечень полок:', ','.join(list(directories))+\".\")\n",
    "        else:\n",
    "            print ('На полке есть документа, удалите их перед удалением полки. Текущий перечень полок:',','.join(list(directories))+\".\")\n",
    "    else:\n",
    "        print (\"Такой полки не существует. Текущий перечень полок:\",','.join(list(directories))+\".\")   "
   ]
  },
  {
   "cell_type": "code",
   "execution_count": 74,
   "metadata": {},
   "outputs": [],
   "source": [
    "def input_handler(command):\n",
    "    if command == 'p':\n",
    "        return command_p()\n",
    "    if command == 's':\n",
    "        return command_s()\n",
    "    if command == 'l':\n",
    "        return command_l()\n",
    "    if command == 'ds':\n",
    "        return command_ds()\n",
    "    if command == 'ads':\n",
    "        return command_ads()"
   ]
  },
  {
   "cell_type": "code",
   "execution_count": 75,
   "metadata": {},
   "outputs": [
    {
     "name": "stdout",
     "output_type": "stream",
     "text": [
      "Введите команду: l\n",
      "№: 2207 876234, тип: passport, владелец: Василий Гупкин, полка хранения: 1\n",
      "№: 11-2, тип: invoice, владелец: Геннадий Покемонов, полка хранения: 1\n",
      "№: 10006, тип: insurance, владелец: Аристарх Павлов, полка хранения: 2\n"
     ]
    }
   ],
   "source": [
    "command = input ('Введите команду: ')\n",
    "input_handler(command)"
   ]
  },
  {
   "cell_type": "code",
   "execution_count": null,
   "metadata": {},
   "outputs": [],
   "source": []
  }
 ],
 "metadata": {
  "kernelspec": {
   "display_name": "Python 3",
   "language": "python",
   "name": "python3"
  },
  "language_info": {
   "codemirror_mode": {
    "name": "ipython",
    "version": 3
   },
   "file_extension": ".py",
   "mimetype": "text/x-python",
   "name": "python",
   "nbconvert_exporter": "python",
   "pygments_lexer": "ipython3",
   "version": "3.8.5"
  }
 },
 "nbformat": 4,
 "nbformat_minor": 4
}
