{
 "cells": [
  {
   "cell_type": "markdown",
   "metadata": {},
   "source": [
    "Задание 1"
   ]
  },
  {
   "cell_type": "code",
   "execution_count": null,
   "metadata": {},
   "outputs": [],
   "source": [
    "import json"
   ]
  },
  {
   "cell_type": "code",
   "execution_count": 82,
   "metadata": {},
   "outputs": [],
   "source": [
    "f = open('/Users/alex/Home.work/DataScientist/Downloads 2/purchase_log.txt', 'r')\n",
    "purchase = {}\n",
    "for i, line in enumerate(f):\n",
    "    line = line.strip()\n",
    "    dic = json.loads(line)\n",
    "    key  = dic['user_id']\n",
    "    value = dic['category']\n",
    "    purchase[key] = value\n",
    "f.close()"
   ]
  },
  {
   "cell_type": "markdown",
   "metadata": {},
   "source": [
    "Задание 2"
   ]
  },
  {
   "cell_type": "code",
   "execution_count": 123,
   "metadata": {},
   "outputs": [],
   "source": [
    "with open ('/Users/alex/Home.work/DataScientist/Downloads 2/visit_log.csv', 'r') as f:\n",
    "    with open('/Users/alex/Home.work/DataScientist/Downloads 2/funnel.csv', 'w') as f2:\n",
    "        for i, line in enumerate(f):\n",
    "            line = line.strip().split(',')\n",
    "            if line[0] in purchase:\n",
    "                f2.write('{},{},{}\\n'.format(line[0], line[1], purchase[line[0]]))"
   ]
  }
 ],
 "metadata": {
  "kernelspec": {
   "display_name": "Python 3",
   "language": "python",
   "name": "python3"
  },
  "language_info": {
   "codemirror_mode": {
    "name": "ipython",
    "version": 3
   },
   "file_extension": ".py",
   "mimetype": "text/x-python",
   "name": "python",
   "nbconvert_exporter": "python",
   "pygments_lexer": "ipython3",
   "version": "3.8.5"
  }
 },
 "nbformat": 4,
 "nbformat_minor": 4
}
