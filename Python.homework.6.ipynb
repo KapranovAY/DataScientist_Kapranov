{
 "cells": [
  {
   "cell_type": "markdown",
   "metadata": {},
   "source": [
    "Задание 1"
   ]
  },
  {
   "cell_type": "code",
   "execution_count": null,
   "metadata": {},
   "outputs": [],
   "source": [
    "The Moscow Times - Wednesday, October 2, 2002\n",
    "The Guardian - Friday, 11.10.13\n",
    "Daily News - Thursday, 18 August 1977"
   ]
  },
  {
   "cell_type": "code",
   "execution_count": 2,
   "metadata": {},
   "outputs": [
    {
     "name": "stdout",
     "output_type": "stream",
     "text": [
      "The Moscow Times - Wednesday, October 2, 2002\n",
      "The_Guardian - Friday, 11.10.13\n",
      "Daily News - Thursday, 18 August 1977\n"
     ]
    }
   ],
   "source": [
    "from datetime import datetime\n",
    "The_Moscow_Times = datetime.strptime('02.10.2002', '%d.%m.%Y')\n",
    "The_Guardian = datetime.strptime('11.10.2013', '%d.%m.%Y')\n",
    "Daily_News = datetime.strptime('18.08.1977', '%d.%m.%Y')\n",
    "\n",
    "\n",
    "print(The_Moscow_Times.strftime('The Moscow Times - %A, %B %-d, %Y'))\n",
    "print(The_Guardian.strftime('The_Guardian - %A, %-d.%m.%y'))\n",
    "print(Daily_News.strftime('Daily News - %A, %-d %B %Y'))"
   ]
  },
  {
   "cell_type": "markdown",
   "metadata": {},
   "source": [
    "Задание 2 "
   ]
  },
  {
   "cell_type": "code",
   "execution_count": 77,
   "metadata": {},
   "outputs": [
    {
     "name": "stdout",
     "output_type": "stream",
     "text": [
      "2018-04-02 - дата корректна\n",
      "2018-02-29 - некорректная дата\n",
      "2018-19-02 - некорректная дата\n"
     ]
    }
   ],
   "source": [
    "from datetime import datetime\n",
    "stream = ['2018-04-02', '2018-02-29', '2018-19-02']\n",
    "def stream_date():\n",
    "    for i in stream:\n",
    "        try:\n",
    "            s = datetime.strptime(i, '%Y-%m-%d')\n",
    "            print (i+' -','дата корректна')\n",
    "        except:\n",
    "            print(i+' -','некорректная дата')             \n",
    "stream_date()          "
   ]
  },
  {
   "cell_type": "code",
   "execution_count": 78,
   "metadata": {},
   "outputs": [
    {
     "name": "stdout",
     "output_type": "stream",
     "text": [
      "2018-04-02 - дата корректна\n",
      "2018-02-29 - некорректная дата\n",
      "2018-19-02 - некорректная дата\n"
     ]
    }
   ],
   "source": [
    "stream_date()"
   ]
  },
  {
   "cell_type": "markdown",
   "metadata": {},
   "source": [
    "Задание 3"
   ]
  },
  {
   "cell_type": "code",
   "execution_count": 75,
   "metadata": {},
   "outputs": [],
   "source": [
    "from datetime import datetime\n",
    "from datetime import timedelta\n",
    "start_date = '2020-02-01'\n",
    "end_date = '2020-01-05'"
   ]
  },
  {
   "cell_type": "code",
   "execution_count": 80,
   "metadata": {},
   "outputs": [
    {
     "name": "stdout",
     "output_type": "stream",
     "text": [
      "[]\n"
     ]
    }
   ],
   "source": [
    "def date_range(start_date, end_date):\n",
    "    stats = []\n",
    "    c = 0\n",
    "    try:\n",
    "        s_date = datetime.strptime(start_date, '%Y-%m-%d')\n",
    "        e_date = datetime.strptime(end_date, '%Y-%m-%d')\n",
    "        while 1 > 0:\n",
    "            if s_date <= e_date:\n",
    "                stats.append(s_date)\n",
    "                s_date += timedelta(days=1)\n",
    "            else:\n",
    "                print(stats)\n",
    "                break\n",
    "\n",
    "    except:\n",
    "        print(stats)\n",
    "date_range(start_date, end_date)"
   ]
  },
  {
   "cell_type": "code",
   "execution_count": 76,
   "metadata": {},
   "outputs": [
    {
     "name": "stdout",
     "output_type": "stream",
     "text": [
      "[]\n"
     ]
    }
   ],
   "source": [
    "date_range(start_date, end_date)"
   ]
  }
 ],
 "metadata": {
  "kernelspec": {
   "display_name": "Python 3",
   "language": "python",
   "name": "python3"
  },
  "language_info": {
   "codemirror_mode": {
    "name": "ipython",
    "version": 3
   },
   "file_extension": ".py",
   "mimetype": "text/x-python",
   "name": "python",
   "nbconvert_exporter": "python",
   "pygments_lexer": "ipython3",
   "version": "3.8.5"
  }
 },
 "nbformat": 4,
 "nbformat_minor": 4
}
