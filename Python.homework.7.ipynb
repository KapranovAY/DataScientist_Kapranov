{
 "cells": [
  {
   "cell_type": "markdown",
   "metadata": {},
   "source": [
    "Задание 1"
   ]
  },
  {
   "cell_type": "code",
   "execution_count": 1,
   "metadata": {},
   "outputs": [],
   "source": [
    "import requests"
   ]
  },
  {
   "cell_type": "code",
   "execution_count": 76,
   "metadata": {},
   "outputs": [],
   "source": [
    "def max_value():\n",
    "    r = requests.get('https://www.cbr-xml-daily.ru/daily_json.js')\n",
    "    max_v = 0\n",
    "    response = r.json()['Valute']\n",
    "    for k, v in response.items():\n",
    "        if response[k][\"Value\"] > max_v:\n",
    "            max_v = response[k][\"Value\"]\n",
    "            key = response[k]['Name']\n",
    "        else: \n",
    "            pass\n",
    "    print (key, max_v) "
   ]
  },
  {
   "cell_type": "code",
   "execution_count": 77,
   "metadata": {},
   "outputs": [
    {
     "name": "stdout",
     "output_type": "stream",
     "text": [
      "СДР (специальные права заимствования) 106.1496\n"
     ]
    }
   ],
   "source": [
    "max_value()"
   ]
  },
  {
   "cell_type": "markdown",
   "metadata": {},
   "source": [
    "Задание 2"
   ]
  },
  {
   "cell_type": "code",
   "execution_count": 44,
   "metadata": {},
   "outputs": [],
   "source": [
    "class Rate:\n",
    "    def __init__(self, format_='value'):\n",
    "        self.format = format_\n",
    "        self.diff = True\n",
    "    def exchange_rates(self):\n",
    "        \"\"\"\n",
    "        Возвращает ответ сервиса с информацией о валютах в виде:\n",
    "        \"\"\"\n",
    "        self.r = requests.get('https://www.cbr-xml-daily.ru/daily_json.js')\n",
    "        return self.r.json()['Valute']\n",
    "    \n",
    "    def make_format(self, currency):\n",
    "        \"\"\"\n",
    "        Возвращает информацию о валюте currency в двух вариантах:\n",
    "        - полная информация о валюте при self.format = 'full':\n",
    "        Rate('full').make_format('EUR')\n",
    "        \"\"\"\n",
    "        response = self.exchange_rates()\n",
    "        \n",
    "        if currency in response:\n",
    "            if self.format == 'full':\n",
    "                return response[currency]\n",
    "            \n",
    "            if self.format == 'value':\n",
    "                return response[currency]['Value']\n",
    "        \n",
    "        return 'Error'\n",
    "    \n",
    "    def previous(self, currency):\n",
    "        \n",
    "        response = self.exchange_rates()\n",
    "        if currency in response:\n",
    "            return response[currency]['Previous']\n",
    "        \n",
    "    def eur(self):\n",
    "\n",
    "        if self.diff == True and self.format == 'value':\n",
    "            return self.make_format('EUR') - self.previous('EUR')\n",
    "        else:\n",
    "            return self.make_format('EUR')\n",
    "    \n",
    "    def usd(self):\n",
    "\n",
    "        if self.diff == True and self.format == 'value':\n",
    "            return self.make_format('USD') - self.previous('USD')\n",
    "        else:\n",
    "            return self.make_format('USD')\n",
    "    \n",
    "    def brl(self):\n",
    "\n",
    "        if self.diff == True and self.format == 'value':\n",
    "            return self.make_format('BRL') - self.previous('BRL')\n",
    "        else:\n",
    "            return self.make_format('BRL')"
   ]
  },
  {
   "cell_type": "code",
   "execution_count": 45,
   "metadata": {},
   "outputs": [],
   "source": [
    "r = Rate()"
   ]
  },
  {
   "cell_type": "code",
   "execution_count": 46,
   "metadata": {},
   "outputs": [
    {
     "data": {
      "text/plain": [
       "-0.2785000000000082"
      ]
     },
     "execution_count": 46,
     "metadata": {},
     "output_type": "execute_result"
    }
   ],
   "source": [
    "r.usd()"
   ]
  },
  {
   "cell_type": "markdown",
   "metadata": {},
   "source": [
    "Задание 3"
   ]
  },
  {
   "cell_type": "code",
   "execution_count": 136,
   "metadata": {},
   "outputs": [],
   "source": [
    "class Employee:\n",
    "    def __init__(self, name, seniority):\n",
    "        self.name = name\n",
    "        self.seniority = seniority\n",
    "        \n",
    "        self.grade = 1\n",
    "    \n",
    "    def grade_up(self):\n",
    "        \"\"\"Повышает уровень сотрудника\"\"\"\n",
    "        self.grade += 1\n",
    "    \n",
    "    def publish_grade(self):\n",
    "        \"\"\"Публикация результатов аккредитации сотрудников\"\"\"\n",
    "        print(self.name, self.grade)\n",
    "    \n",
    "    def check_if_it_is_time_for_upgrade(self):\n",
    "        pass"
   ]
  },
  {
   "cell_type": "code",
   "execution_count": 221,
   "metadata": {},
   "outputs": [],
   "source": [
    "class Designer(Employee):\n",
    "    def __init__(self, name, seniority):\n",
    "        super().__init__(name, seniority)\n",
    "        # при выходе на работу сотрудник уже имеет две премии\n",
    "        self.seniority += 4\n",
    "    \n",
    "    def check_if_it_is_time_for_upgrade(self):      \n",
    "        # условие повышения сотрудника\n",
    "        if self.seniority / 7 > self.grade:\n",
    "            self.grade_up()\n",
    "        print ('Имя', self.name, 'Кол-во баллов', self.seniority, 'Грейд',  self.grade)\n",
    "            \n",
    "    def receiving_prize(self):\n",
    "        self.seniority += 2\n",
    "        print(self.seniority)\n",
    "        \n",
    "    def publish(self):\n",
    "        \"\"\"Публикация результатов\"\"\"\n",
    "        print(self.name, self.seniority)"
   ]
  },
  {
   "cell_type": "code",
   "execution_count": 224,
   "metadata": {},
   "outputs": [],
   "source": [
    "alex = Designer('Александр', 0)"
   ]
  },
  {
   "cell_type": "code",
   "execution_count": 228,
   "metadata": {},
   "outputs": [
    {
     "name": "stdout",
     "output_type": "stream",
     "text": [
      "Имя Александр Кол-во баллов 8 Грейд 2\n"
     ]
    }
   ],
   "source": [
    "alex.check_if_it_is_time_for_upgrade()"
   ]
  }
 ],
 "metadata": {
  "kernelspec": {
   "display_name": "Python 3",
   "language": "python",
   "name": "python3"
  },
  "language_info": {
   "codemirror_mode": {
    "name": "ipython",
    "version": 3
   },
   "file_extension": ".py",
   "mimetype": "text/x-python",
   "name": "python",
   "nbconvert_exporter": "python",
   "pygments_lexer": "ipython3",
   "version": "3.8.5"
  }
 },
 "nbformat": 4,
 "nbformat_minor": 4
}
