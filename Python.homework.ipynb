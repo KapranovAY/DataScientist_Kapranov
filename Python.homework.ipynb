{
 "cells": [
  {
   "cell_type": "markdown",
   "metadata": {},
   "source": [
    "ЗАДАНИЕ 1 "
   ]
  },
  {
   "cell_type": "code",
   "execution_count": 10,
   "metadata": {},
   "outputs": [
    {
     "name": "stdout",
     "output_type": "stream",
     "text": [
      "Фраза 2 длиннее фразы 1\n"
     ]
    }
   ],
   "source": [
    "phrase_1 = 'быть или не быть'\n",
    "phrase_2 = 'вот в чём вопрос'\n",
    "if phrase_1 > phrase_2:\n",
    "    print('Фраза 1 длиннее фразы 2')\n",
    "else:\n",
    "    print('Фраза 2 длиннее фразы 1')"
   ]
  },
  {
   "cell_type": "code",
   "execution_count": 11,
   "metadata": {},
   "outputs": [
    {
     "name": "stdout",
     "output_type": "stream",
     "text": [
      "Фраза 1 длиннее фразы 2\n"
     ]
    }
   ],
   "source": [
    "phrase_1 = 'вот в чём вопрос'\n",
    "phrase_2 = 'быть или не быть'\n",
    "if phrase_1 > phrase_2:\n",
    "    print('Фраза 1 длиннее фразы 2')\n",
    "else:\n",
    "    print('Фраза 2 длиннее фразы 1')"
   ]
  },
  {
   "cell_type": "code",
   "execution_count": 15,
   "metadata": {},
   "outputs": [
    {
     "name": "stdout",
     "output_type": "stream",
     "text": [
      "Фразы равной длины\n"
     ]
    }
   ],
   "source": [
    "phrase_1 = 'вот в чём вопрос быть или не быть'\n",
    "phrase_2 = 'вот в чём вопрос быть или не быть'\n",
    "if phrase_1 > phrase_2:\n",
    "    print('Фраза 1 длиннее фразы 2')\n",
    "elif phrase_1 == phrase_2:\n",
    "    print('Фразы равной длины')\n",
    "else:\n",
    "    print('Фраза 2 длиннее фразы 1')"
   ]
  },
  {
   "cell_type": "markdown",
   "metadata": {},
   "source": [
    "ЗАДАНИЕ 2"
   ]
  },
  {
   "cell_type": "code",
   "execution_count": 1,
   "metadata": {
    "scrolled": false
   },
   "outputs": [
    {
     "name": "stdout",
     "output_type": "stream",
     "text": [
      "Введите год 2000\n",
      "Год високосный\n"
     ]
    }
   ],
   "source": [
    "year = int(input('Введите год '))\n",
    "if year % 4 == 0:\n",
    "    print('Год високосный')\n",
    "else:\n",
    "    print('Невисокосный год')"
   ]
  },
  {
   "cell_type": "markdown",
   "metadata": {},
   "source": [
    "ЗАДАНИЕ 3"
   ]
  },
  {
   "cell_type": "code",
   "execution_count": 1,
   "metadata": {},
   "outputs": [
    {
     "name": "stdout",
     "output_type": "stream",
     "text": [
      "Введите дату рождения 1\n",
      "Введите месяц рождения апрель\n",
      "Ваш зна зодиака - Овен\n"
     ]
    }
   ],
   "source": [
    "data = int(input('Введите дату рождения '))\n",
    "month = input('Введите месяц рождения ')\n",
    "if month == 'март':\n",
    "    if data <= 20: \n",
    "        print('Ваш зна зодиака - Рыбы')\n",
    "    else:\n",
    "        print('Ваш зна зодиака - Овен')\n",
    "elif month == 'апрель':\n",
    "    if data <= 20: \n",
    "        print('Ваш зна зодиака - Овен')\n",
    "    else:\n",
    "        print('Ваш зна зодиака - Телец')\n",
    "elif month == 'май':\n",
    "    if data <= 21: \n",
    "        print('Ваш зна зодиака - Телец')\n",
    "    else:\n",
    "        print('Ваш зна зодиака - Близнецы')\n",
    "elif month == 'июнь':\n",
    "    if data <= 21: \n",
    "        print('Ваш зна зодиака - Близнецы')\n",
    "    else:\n",
    "        print('Ваш зна зодиака - Рак')\n",
    "elif month == 'июль':\n",
    "    if data <= 22: \n",
    "        print('Ваш зна зодиака - Рак')\n",
    "    else:\n",
    "        print('Ваш зна зодиака - Лев')\n",
    "elif month == 'август':\n",
    "    if data <= 23: \n",
    "        print('Ваш зна зодиака - Лев')\n",
    "    else:\n",
    "        print('Ваш зна зодиака - Дева')\n",
    "elif month == 'сентябрь':\n",
    "    if data <= 23: \n",
    "        print('Ваш зна зодиака - Дева')\n",
    "    else:\n",
    "        print('Ваш зна зодиака - Весы')\n",
    "elif month == 'октябрь':\n",
    "    if data <= 23: \n",
    "        print('Ваш зна зодиака - Весы')\n",
    "    else:\n",
    "        print('Ваш зна зодиака - Скорпион')\n",
    "elif month == 'ноябрь':\n",
    "    if data <= 22: \n",
    "        print('Ваш зна зодиака - Скорпион')\n",
    "    else:\n",
    "        print('Ваш зна зодиака - Стрелец')\n",
    "elif month == 'декабрь':\n",
    "    if data <= 22: \n",
    "        print('Ваш зна зодиака - Стрелец')\n",
    "    else:\n",
    "        print('Ваш зна зодиака - Козерог')\n",
    "elif month == 'январь':\n",
    "    if data <= 20: \n",
    "        print('Ваш зна зодиака - Козерог')\n",
    "    else:\n",
    "        print('Ваш зна зодиака - Водолей')\n",
    "elif month == 'февраль':\n",
    "    if data <= 19: \n",
    "        print('Ваш зна зодиака - Водолей')\n",
    "    else:\n",
    "        print('Ваш зна зодиака - Рыбы')"
   ]
  },
  {
   "cell_type": "markdown",
   "metadata": {},
   "source": [
    "ЗАДАНИЕ 4"
   ]
  },
  {
   "cell_type": "code",
   "execution_count": 63,
   "metadata": {},
   "outputs": [
    {
     "name": "stdout",
     "output_type": "stream",
     "text": [
      "Коробка №2\n"
     ]
    }
   ],
   "source": [
    "width = 19\n",
    "length = 40\n",
    "height = 40\n",
    "if width <= 15 and length <= 15 and height <= 15:\n",
    "    print('Коробка №1')\n",
    "elif 15 < width < 50 and 15 < length < 50 and 15 < height < 50:\n",
    "    print('Коробка №2')\n",
    "elif length > 200:\n",
    "    print('Упаковка для лыж')\n",
    "else: \n",
    "    print('Стандартная коробка №3')"
   ]
  },
  {
   "cell_type": "markdown",
   "metadata": {},
   "source": [
    "ЗАДАНИЕ 5"
   ]
  },
  {
   "cell_type": "code",
   "execution_count": null,
   "metadata": {},
   "outputs": [],
   "source": [
    "number = int(input('Введите номер билета '))\n",
    "one = number // 100000\n",
    "two = number // 10000 % 10\n",
    "three = number // 1000 % 10\n",
    "four = number // 100 % 10\n",
    "five = number // 10 % 10\n",
    "sex = number % 10\n",
    "if (one + two + three) == (four + five + sex):\n",
    "    print('Счастливый билет')\n",
    "else: \n",
    "    print('Обычный билет')"
   ]
  },
  {
   "cell_type": "markdown",
   "metadata": {},
   "source": [
    "ЗАДАНИЕ 6"
   ]
  },
  {
   "cell_type": "code",
   "execution_count": 34,
   "metadata": {},
   "outputs": [
    {
     "name": "stdout",
     "output_type": "stream",
     "text": [
      "Введите тип фигуры прямоугольник\n",
      "Введите длину прямоугольника 2\n",
      "Введите ширину прямоугольника 2\n",
      "Площадь прямоугольника =  4.0\n"
     ]
    }
   ],
   "source": [
    "figure = input('Введите тип фигуры ')\n",
    "if figure == 'круг':\n",
    "    radius = float(input('Введите радиус круга '))\n",
    "    print(\"Площадь круга = \", 3.14 * radius ** 2)\n",
    "if figure == 'треугольник':\n",
    "    a = float(input('Введите длину стороны A'))\n",
    "    b = float(input('Введите длину стороны В'))\n",
    "    c = float(input('Введите длину стороны С'))\n",
    "    p = (a + b + c) / 2\n",
    "    from math import sqrt\n",
    "    s = sqrt(p*(p-a)*(p-b)*(p-c))\n",
    "    print(\"Площадь треугольник = \", round(s, 2))\n",
    "if figure == 'прямоугольник':\n",
    "    length = float(input(\"Введите длину прямоугольника \"))\n",
    "    width = float(input(\"Введите ширину прямоугольника \"))\n",
    "    print(\"Площадь прямоугольника = \", length*width)"
   ]
  }
 ],
 "metadata": {
  "kernelspec": {
   "display_name": "Python 3",
   "language": "python",
   "name": "python3"
  },
  "language_info": {
   "codemirror_mode": {
    "name": "ipython",
    "version": 3
   },
   "file_extension": ".py",
   "mimetype": "text/x-python",
   "name": "python",
   "nbconvert_exporter": "python",
   "pygments_lexer": "ipython3",
   "version": "3.8.5"
  }
 },
 "nbformat": 4,
 "nbformat_minor": 4
}
