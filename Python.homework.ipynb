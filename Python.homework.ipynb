{
 "cells": [
  {
   "cell_type": "markdown",
   "metadata": {},
   "source": [
    "ЗАДАНИЕ 1 "
   ]
  },
  {
   "cell_type": "code",
   "execution_count": 10,
   "metadata": {},
   "outputs": [
    {
     "name": "stdout",
     "output_type": "stream",
     "text": [
      "Фразы равной длины\n"
     ]
    }
   ],
   "source": [
    "phrase_1 = 'быть или не быть'\n",
    "phrase_2 = 'вот в чём вопрос'\n",
    "if len (phrase_1) > len (phrase_2):\n",
    "    print('Фраза 1 длиннее фразы 2')\n",
    "elif len (phrase_1) < len (phrase_2):\n",
    "    print('Фраза 2 длиннее фразы 1')\n",
    "else:\n",
    "    print('Фразы равной длины')"
   ]
  },
  {
   "cell_type": "markdown",
   "metadata": {},
   "source": [
    "ЗАДАНИЕ 2"
   ]
  },
  {
   "cell_type": "code",
   "execution_count": 25,
   "metadata": {
    "scrolled": false
   },
   "outputs": [
    {
     "name": "stdout",
     "output_type": "stream",
     "text": [
      "Введите год 1\n",
      "Невисокосный год\n"
     ]
    }
   ],
   "source": [
    "year = int(input('Введите год '))\n",
    "if year % 4 == 0 and year % 100 != 0 or year % 400 == 0:\n",
    "    print('Год високосный')\n",
    "else:\n",
    "    print('Невисокосный год')"
   ]
  },
  {
   "cell_type": "markdown",
   "metadata": {},
   "source": [
    "ЗАДАНИЕ 3"
   ]
  },
  {
   "cell_type": "code",
   "execution_count": 38,
   "metadata": {},
   "outputs": [
    {
     "name": "stdout",
     "output_type": "stream",
     "text": [
      "Введите дату рождения 18\n",
      "Введите месяц рождения март\n",
      "Ваш зна зодиака - Рыбы\n"
     ]
    }
   ],
   "source": [
    "data = int(input('Введите дату рождения '))\n",
    "month = input('Введите месяц рождения ')\n",
    "if (month == 'февраль'and data >= 19) or (month == 'март' and data <= 20):\n",
    "    print('Ваш зна зодиака - Рыбы')\n",
    "elif (month == 'март'and data >= 21) or (month == 'апрель' and data <= 19):\n",
    "    print('Ваш зна зодиака - Овен')\n",
    "elif (month == 'апрель'and data >= 20) or (month == 'май' and data <=20):\n",
    "    print('Ваш зна зодиака - Телец')\n",
    "elif (month == 'май'and data >= 21) or (month == 'июнь' and data <= 20):\n",
    "    print('Ваш зна зодиака - Близнецы')\n",
    "elif (month == 'июнь'and data >= 21) or (month == 'июль' and data <=22):\n",
    "    print('Ваш зна зодиака - Рак')\n",
    "elif (month == 'июль'and data >= 23) or (month == 'август' and data <=22):\n",
    "    print('Ваш зна зодиака - Лев')\n",
    "elif (month == 'август'and data >= 23) or (month == 'сентябрь' and data <= 22):\n",
    "    print('Ваш зна зодиака - Дева')\n",
    "elif (month == 'сентябрь'and data >= 23) or (month == 'октябрь' and data <= 22):\n",
    "    print('Ваш зна зодиака - Весы')\n",
    "elif (month == 'октябрь'and data >= 23) or (month == 'ноябрь' and data <=21):\n",
    "    print('Ваш зна зодиака - Скорпион')\n",
    "elif (month == 'ноябрь'and data >= 22) or (month == 'декабрь' and data <= 21):\n",
    "    print('Ваш зна зодиака - Стрелец')\n",
    "elif (month == 'декабрь'and data >= 22) or (month == 'январь' and data <=19):\n",
    "    print('Ваш зна зодиака - Козерог')\n",
    "elif (month == 'январь'and data >= 20) or (month == 'февраль' and data <=18):\n",
    "    print('Ваш зна зодиака - Водолей')"
   ]
  },
  {
   "cell_type": "markdown",
   "metadata": {},
   "source": [
    "ЗАДАНИЕ 4"
   ]
  },
  {
   "cell_type": "code",
   "execution_count": 52,
   "metadata": {},
   "outputs": [
    {
     "name": "stdout",
     "output_type": "stream",
     "text": [
      "Коробка №2\n"
     ]
    }
   ],
   "source": [
    "width = 40\n",
    "length = 20\n",
    "height = 10\n",
    "if width <= 15 and length <= 15 and height <= 15:\n",
    "    print('Коробка №1')\n",
    "elif length > 200:\n",
    "    print('Упаковка для лыж')\n",
    "elif (15 < width < 50) or (15 < length < 50) or (15 < height < 50):\n",
    "    print('Коробка №2')\n",
    "else: \n",
    "    print('Стандартная коробка №3')"
   ]
  },
  {
   "cell_type": "markdown",
   "metadata": {},
   "source": [
    "ЗАДАНИЕ 5"
   ]
  },
  {
   "cell_type": "code",
   "execution_count": null,
   "metadata": {},
   "outputs": [],
   "source": [
    "number = int(input('Введите номер билета '))\n",
    "one = number // 100000\n",
    "two = number // 10000 % 10\n",
    "three = number // 1000 % 10\n",
    "four = number // 100 % 10\n",
    "five = number // 10 % 10\n",
    "sex = number % 10\n",
    "if (one + two + three) == (four + five + sex):\n",
    "    print('Счастливый билет')\n",
    "else: \n",
    "    print('Обычный билет')"
   ]
  },
  {
   "cell_type": "markdown",
   "metadata": {},
   "source": [
    "ЗАДАНИЕ 6"
   ]
  },
  {
   "cell_type": "code",
   "execution_count": 26,
   "metadata": {},
   "outputs": [
    {
     "name": "stdout",
     "output_type": "stream",
     "text": [
      "Введите тип фигуры прямоугольник\n",
      "Введите длину прямоугольника 10\n",
      "Введите ширину прямоугольника 10\n",
      "Площадь прямоугольника =  100.0\n"
     ]
    }
   ],
   "source": [
    "figure = input('Введите тип фигуры ')\n",
    "if figure == 'круг':\n",
    "    radius = float(input('Введите радиус круга '))\n",
    "    print(\"Площадь круга = \", 3.14 * radius ** 2)\n",
    "if figure == 'треугольник':\n",
    "    a = float(input('Введите длину стороны A'))\n",
    "    b = float(input('Введите длину стороны В'))\n",
    "    c = float(input('Введите длину стороны С'))\n",
    "    p = (a + b + c) / 2\n",
    "    from math import sqrt\n",
    "    s = sqrt(p * (p - a) * (p - b) * ( p-c ))\n",
    "    print(\"Площадь треугольник = \", round(s, 2))\n",
    "if figure == 'прямоугольник':\n",
    "    length = float(input(\"Введите длину прямоугольника \"))\n",
    "    width = float(input(\"Введите ширину прямоугольника \"))\n",
    "    print(\"Площадь прямоугольника = \", length * width)"
   ]
  }
 ],
 "metadata": {
  "kernelspec": {
   "display_name": "Python 3",
   "language": "python",
   "name": "python3"
  },
  "language_info": {
   "codemirror_mode": {
    "name": "ipython",
    "version": 3
   },
   "file_extension": ".py",
   "mimetype": "text/x-python",
   "name": "python",
   "nbconvert_exporter": "python",
   "pygments_lexer": "ipython3",
   "version": "3.8.5"
  }
 },
 "nbformat": 4,
 "nbformat_minor": 4
}
