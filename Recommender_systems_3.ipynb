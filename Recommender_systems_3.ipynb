{
 "cells": [
  {
   "cell_type": "code",
   "execution_count": 1,
   "metadata": {},
   "outputs": [],
   "source": [
    "import pandas as pd\n",
    "import numpy as np\n",
    "\n",
    "from surprise import SVD, SVDpp\n",
    "from surprise import Dataset\n",
    "from surprise import accuracy\n",
    "from surprise import Reader\n",
    "from surprise.model_selection import train_test_split\n",
    "import matplotlib.pyplot as plt\n",
    "\n",
    "from tqdm import tqdm_notebook\n",
    "\n",
    "from sklearn.feature_extraction.text import TfidfTransformer, CountVectorizer\n",
    "from sklearn.neighbors import NearestNeighbors\n",
    "from sklearn.linear_model import LinearRegression\n",
    "from sklearn.metrics import mean_squared_error"
   ]
  },
  {
   "cell_type": "code",
   "execution_count": 2,
   "metadata": {},
   "outputs": [],
   "source": [
    "movies = pd.read_csv('/Users/gost1/Desktop/Recommender systems/Downloads/movies.csv')\n",
    "ratings = pd.read_csv('/Users/gost1/Desktop/Recommender systems/Downloads/ratings.csv')\n",
    "links = pd.read_csv('/Users/gost1/Desktop/Recommender systems/Downloads/links.csv')\n",
    "tags = pd.read_csv('/Users/gost1/Desktop/Recommender systems/Downloads/tags.csv')"
   ]
  },
  {
   "cell_type": "code",
   "execution_count": 3,
   "metadata": {},
   "outputs": [],
   "source": [
    "movies_with_ratings = movies.join(ratings.set_index('movieId'), on='movieId').reset_index(drop=True)\n",
    "movies_with_ratings.dropna(inplace=True)"
   ]
  },
  {
   "cell_type": "code",
   "execution_count": 4,
   "metadata": {},
   "outputs": [],
   "source": [
    "dataset = pd.DataFrame({\n",
    "    'uid': movies_with_ratings.userId,\n",
    "    'iid': movies_with_ratings.title,\n",
    "    'rating': movies_with_ratings.rating\n",
    "})"
   ]
  },
  {
   "cell_type": "code",
   "execution_count": 6,
   "metadata": {},
   "outputs": [],
   "source": [
    "reader = Reader(rating_scale=(0.5, 5.0))\n",
    "data = Dataset.load_from_df(dataset, reader)"
   ]
  },
  {
   "cell_type": "code",
   "execution_count": 7,
   "metadata": {},
   "outputs": [
    {
     "data": {
      "text/plain": [
       "<surprise.dataset.DatasetAutoFolds at 0x7fd6e866a9d0>"
      ]
     },
     "execution_count": 7,
     "metadata": {},
     "output_type": "execute_result"
    }
   ],
   "source": [
    "data"
   ]
  },
  {
   "cell_type": "code",
   "execution_count": 8,
   "metadata": {},
   "outputs": [],
   "source": [
    "trainset, testset = train_test_split(data, test_size=.15, random_state=42)"
   ]
  },
  {
   "cell_type": "code",
   "execution_count": 9,
   "metadata": {},
   "outputs": [
    {
     "data": {
      "text/plain": [
       "<surprise.prediction_algorithms.matrix_factorization.SVD at 0x7fd6e866ae20>"
      ]
     },
     "execution_count": 9,
     "metadata": {},
     "output_type": "execute_result"
    }
   ],
   "source": [
    "algo = SVD(n_factors=20, n_epochs=20)\n",
    "algo.fit(trainset)"
   ]
  },
  {
   "cell_type": "code",
   "execution_count": 10,
   "metadata": {},
   "outputs": [],
   "source": [
    "test_pred = algo.test(testset)"
   ]
  },
  {
   "cell_type": "code",
   "execution_count": 11,
   "metadata": {},
   "outputs": [],
   "source": [
    "current_user_id = 2.0\n",
    "user_movies = movies_with_ratings[movies_with_ratings.userId == current_user_id].title.unique()\n",
    "\n",
    "scores = []\n",
    "titles = []\n",
    "\n",
    "for movie in movies_with_ratings.title.unique():\n",
    "    if movie in user_movies:\n",
    "        continue\n",
    "        \n",
    "    scores.append(algo.predict(uid=current_user_id, iid=movie).est)\n",
    "    titles.append(movie)"
   ]
  },
  {
   "cell_type": "code",
   "execution_count": 12,
   "metadata": {},
   "outputs": [],
   "source": [
    "def change_string(s):\n",
    "    return ' '.join(s.replace(' ', '').replace('-', '').split('|'))"
   ]
  },
  {
   "cell_type": "code",
   "execution_count": 13,
   "metadata": {},
   "outputs": [],
   "source": [
    "movie_genres = [change_string(g) for g in movies.genres.values]"
   ]
  },
  {
   "cell_type": "code",
   "execution_count": 22,
   "metadata": {},
   "outputs": [
    {
     "data": {
      "text/plain": [
       "NearestNeighbors(metric='euclidean', n_jobs=-1, n_neighbors=50)"
      ]
     },
     "execution_count": 22,
     "metadata": {},
     "output_type": "execute_result"
    }
   ],
   "source": [
    "count_vect = CountVectorizer()\n",
    "X_train_counts = count_vect.fit_transform(movie_genres)\n",
    "\n",
    "tfidf_transformer = TfidfTransformer()\n",
    "X_train_tfidf = tfidf_transformer.fit_transform(X_train_counts)\n",
    "\n",
    "neigh = NearestNeighbors(n_neighbors=50, n_jobs=-1, metric='euclidean') \n",
    "neigh.fit(X_train_tfidf)"
   ]
  },
  {
   "cell_type": "code",
   "execution_count": 23,
   "metadata": {},
   "outputs": [
    {
     "name": "stderr",
     "output_type": "stream",
     "text": [
      "<ipython-input-23-bd73bb19affb>:3: TqdmDeprecationWarning: This function will be removed in tqdm==5.0.0\n",
      "Please use `tqdm.notebook.tqdm` instead of `tqdm.tqdm_notebook`\n",
      "  for index, row in tqdm_notebook(movies.iterrows()):\n"
     ]
    },
    {
     "data": {
      "application/vnd.jupyter.widget-view+json": {
       "model_id": "d8c49d66ffac4254bb19d349552fdfff",
       "version_major": 2,
       "version_minor": 0
      },
      "text/plain": [
       "HBox(children=(HTML(value=''), FloatProgress(value=1.0, bar_style='info', layout=Layout(width='20px'), max=1.0…"
      ]
     },
     "metadata": {},
     "output_type": "display_data"
    },
    {
     "name": "stdout",
     "output_type": "stream",
     "text": [
      "\n"
     ]
    }
   ],
   "source": [
    "title_genres = {}\n",
    "\n",
    "for index, row in tqdm_notebook(movies.iterrows()):\n",
    "    title_genres[row.title] = row.genres"
   ]
  },
  {
   "cell_type": "code",
   "execution_count": 24,
   "metadata": {},
   "outputs": [],
   "source": [
    "def recommend_for_user(user_id):\n",
    "    current_user_id = user_id\n",
    "    user_movies = movies_with_ratings[movies_with_ratings.userId == current_user_id].title.unique()\n",
    "    \n",
    "    last_user_movie = user_movies[-1]\n",
    "    \n",
    "    movie_genres = title_genres[last_user_movie]\n",
    "    \n",
    "    movie_genres = change_string(movie_genres)\n",
    "\n",
    "    predict = count_vect.transform([movie_genres])\n",
    "    X_tfidf2 = tfidf_transformer.transform(predict)\n",
    "\n",
    "    res = neigh.kneighbors(X_tfidf2, return_distance=True)\n",
    "    \n",
    "    movies_to_score = movies.iloc[res[1][0]].title.values\n",
    "\n",
    "    scores = []\n",
    "    titles = []\n",
    "\n",
    "    for movie in movies_to_score:\n",
    "        if movie in user_movies:\n",
    "            continue\n",
    "\n",
    "        scores.append(algo.predict(uid=current_user_id, iid=movie).est)\n",
    "        titles.append(movie)\n",
    "        \n",
    "    \n",
    "    best_indexes = np.argsort(scores)[-5:]\n",
    "    for i in reversed(best_indexes):\n",
    "        print(titles[i], scores[i])"
   ]
  },
  {
   "cell_type": "code",
   "execution_count": 26,
   "metadata": {},
   "outputs": [
    {
     "name": "stdout",
     "output_type": "stream",
     "text": [
      "Ferris Bueller's Day Off (1986) 3.612753515774943\n",
      "Trading Places (1983) 3.5884224175416883\n",
      "Palm Beach Story, The (1942) 3.4930097961691295\n",
      "Fans (1999) 3.4663628168728593\n",
      "Calcium Kid, The (2004) 3.3883924659806284\n"
     ]
    }
   ],
   "source": [
    "recommend_for_user(10.0)"
   ]
  },
  {
   "cell_type": "code",
   "execution_count": null,
   "metadata": {},
   "outputs": [],
   "source": []
  }
 ],
 "metadata": {
  "kernelspec": {
   "display_name": "Python 3",
   "language": "python",
   "name": "python3"
  },
  "language_info": {
   "codemirror_mode": {
    "name": "ipython",
    "version": 3
   },
   "file_extension": ".py",
   "mimetype": "text/x-python",
   "name": "python",
   "nbconvert_exporter": "python",
   "pygments_lexer": "ipython3",
   "version": "3.8.5"
  }
 },
 "nbformat": 4,
 "nbformat_minor": 4
}
