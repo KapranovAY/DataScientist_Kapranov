{
 "cells": [
  {
   "cell_type": "code",
   "execution_count": 3,
   "metadata": {},
   "outputs": [],
   "source": [
    "import numpy as np\n",
    "import pandas as pd"
   ]
  },
  {
   "cell_type": "code",
   "execution_count": 174,
   "metadata": {},
   "outputs": [
    {
     "name": "stdout",
     "output_type": "stream",
     "text": [
      "Общий выигрыш при миллионе игр:  794200\n",
      "В среднем игрок теряет 0.21 руб. за одну игру\n"
     ]
    }
   ],
   "source": [
    "trials = 1000000    # Количество попыток\n",
    "prize = 0\n",
    "\n",
    "for i in range(trials):\n",
    "    number = np.random.randint(0, 1000)\n",
    "    \n",
    "    if number == 777:\n",
    "        prize += 200  \n",
    "    \n",
    "    elif number == 999:\n",
    "        prize += 100\n",
    "        \n",
    "    elif number == 555:\n",
    "        prize += 50\n",
    "    \n",
    "    elif number == 333:\n",
    "        prize += 15\n",
    "        \n",
    "    elif number == 111:\n",
    "        prize += 10\n",
    "    \n",
    "    elif number % 100 == 77:\n",
    "        prize += 5\n",
    "    \n",
    "    elif number % 10 == 7:\n",
    "        prize += 3\n",
    "        \n",
    "    elif number % 100 == 100 % 100:\n",
    "        prize += 2\n",
    "        \n",
    "    elif number % 10 == 110 % 10:\n",
    "        prize += 1\n",
    "\n",
    "        \n",
    "print ('Общий выигрыш при миллионе игр: ', prize)\n",
    "print ('В среднем игрок теряет', round(1 - prize/trials, 2), 'руб. за одну игру')"
   ]
  },
  {
   "cell_type": "markdown",
   "metadata": {},
   "source": [
    "Дополнительное задание"
   ]
  },
  {
   "cell_type": "code",
   "execution_count": 175,
   "metadata": {},
   "outputs": [
    {
     "data": {
      "text/plain": [
       "0.8450000000000001"
      ]
     },
     "execution_count": 175,
     "metadata": {},
     "output_type": "execute_result"
    }
   ],
   "source": [
    "200 * 1 / 1000 + 100 * 1 / 1000 + 50 * 1 / 1000 + 15 * 1 / 1000 + 10 * 1 / 1000 + 5 * 10 / 1000 + 3 * 100 / 1000 + 2 * 10 / 1000 + 1 * 100 / 1000"
   ]
  }
 ],
 "metadata": {
  "kernelspec": {
   "display_name": "Python 3",
   "language": "python",
   "name": "python3"
  },
  "language_info": {
   "codemirror_mode": {
    "name": "ipython",
    "version": 3
   },
   "file_extension": ".py",
   "mimetype": "text/x-python",
   "name": "python",
   "nbconvert_exporter": "python",
   "pygments_lexer": "ipython3",
   "version": "3.8.5"
  }
 },
 "nbformat": 4,
 "nbformat_minor": 4
}
